{
 "cells": [
  {
   "cell_type": "markdown",
   "id": "a4d997e2-d470-4763-969c-21d72c0415f4",
   "metadata": {},
   "source": [
    "## Imports and Setup\n",
    "\n",
    "Run the following cells to make sure your Notebook is ready to run this code. "
   ]
  },
  {
   "cell_type": "code",
   "execution_count": 1,
   "id": "7018f7d6-b931-4e3a-8647-6f50a42e2044",
   "metadata": {
    "execution": {
     "iopub.execute_input": "2022-10-20T00:13:15.848248Z",
     "iopub.status.busy": "2022-10-20T00:13:15.847619Z",
     "iopub.status.idle": "2022-10-20T00:13:17.664226Z",
     "shell.execute_reply": "2022-10-20T00:13:17.663608Z",
     "shell.execute_reply.started": "2022-10-20T00:13:15.848188Z"
    }
   },
   "outputs": [],
   "source": [
    "import torch\n",
    "import torch.nn as nn\n",
    "import torch.nn.functional as F\n",
    "import torchvision\n",
    "import torchvision.transforms as transforms\n",
    "import torchvision.datasets as Datasets\n",
    "from torch.utils.data import Dataset, DataLoader\n",
    "import numpy as np\n",
    "import matplotlib.pyplot as plt\n",
    "import cv2\n",
    "from tqdm.notebook import tqdm\n",
    "import seaborn as sns\n",
    "from torchvision.utils import make_grid"
   ]
  },
  {
   "cell_type": "code",
   "execution_count": 2,
   "id": "c1488bd9-0ac6-4701-85b9-1c36daaef697",
   "metadata": {
    "execution": {
     "iopub.execute_input": "2022-10-20T00:13:20.962211Z",
     "iopub.status.busy": "2022-10-20T00:13:20.961295Z",
     "iopub.status.idle": "2022-10-20T00:13:20.966029Z",
     "shell.execute_reply": "2022-10-20T00:13:20.965430Z",
     "shell.execute_reply.started": "2022-10-20T00:13:20.962186Z"
    }
   },
   "outputs": [
    {
     "name": "stdout",
     "output_type": "stream",
     "text": [
      "Running on the GPU\n"
     ]
    }
   ],
   "source": [
    "if torch.cuda.is_available():\n",
    "  device = torch.device('cuda:0')\n",
    "  print('Running on the GPU')\n",
    "else:\n",
    "  device = torch.device('cpu')\n",
    "  print('Running on the CPU')"
   ]
  },
  {
   "cell_type": "markdown",
   "id": "1e8c99d1-fe03-451b-84d6-3addbce88ec6",
   "metadata": {},
   "source": [
    "# Min-max Normalization example"
   ]
  },
  {
   "cell_type": "code",
   "execution_count": 3,
   "id": "e1aa3e78-d4eb-49ed-95d5-c754ece7d8d0",
   "metadata": {
    "execution": {
     "iopub.execute_input": "2022-10-20T00:14:14.136569Z",
     "iopub.status.busy": "2022-10-20T00:14:14.135914Z",
     "iopub.status.idle": "2022-10-20T00:14:14.140713Z",
     "shell.execute_reply": "2022-10-20T00:14:14.140218Z",
     "shell.execute_reply.started": "2022-10-20T00:14:14.136549Z"
    }
   },
   "outputs": [],
   "source": [
    "def min_max_normalize(data_points: np.array):\n",
    "  \"\"\"\n",
    "  This function normalizes data by constraining\n",
    "  data points between the range of 0 & 1  \n",
    "  \"\"\"\n",
    "  #  convert list to numpy array\n",
    "  if type(data_points) == list:\n",
    "    data_points = np.array(data_points)\n",
    "  else:\n",
    "    pass\n",
    "\n",
    "  #  create a list to hold normalized data  \n",
    "  normalized = []\n",
    "\n",
    "  #  derive minimum and maximum values\n",
    "  minimum = data_points.min()\n",
    "  maximum = data_points.max()\n",
    "\n",
    "  #  convert to list for iteration\n",
    "  data_points = list(data_points)\n",
    "  #  normalizing data\n",
    "  for value in data_points:\n",
    "    normalize = (value-minimum)/(maximum-minimum)\n",
    "    normalized.append(round(normalize, 2))\n",
    "  \n",
    "  return np.array(normalized)"
   ]
  },
  {
   "cell_type": "code",
   "execution_count": 4,
   "id": "238acfe0-0ebd-4e72-b96d-ad3bb1851695",
   "metadata": {
    "execution": {
     "iopub.execute_input": "2022-10-20T00:14:23.034629Z",
     "iopub.status.busy": "2022-10-20T00:14:23.033853Z",
     "iopub.status.idle": "2022-10-20T00:14:23.041019Z",
     "shell.execute_reply": "2022-10-20T00:14:23.040509Z",
     "shell.execute_reply.started": "2022-10-20T00:14:23.034605Z"
    }
   },
   "outputs": [],
   "source": [
    "#  creating a random set of data points\n",
    "data = np.random.rand(50)*20\n",
    "\n",
    "#  normalizing data points\n",
    "normalized = min_max_normalize(data)"
   ]
  },
  {
   "cell_type": "code",
   "execution_count": 5,
   "id": "82338229-888b-40e4-b1ff-214edf7fb9ae",
   "metadata": {
    "execution": {
     "iopub.execute_input": "2022-10-20T00:14:29.041486Z",
     "iopub.status.busy": "2022-10-20T00:14:29.040953Z",
     "iopub.status.idle": "2022-10-20T00:14:29.302268Z",
     "shell.execute_reply": "2022-10-20T00:14:29.301688Z",
     "shell.execute_reply.started": "2022-10-20T00:14:29.041468Z"
    }
   },
   "outputs": [
    {
     "data": {
      "text/plain": [
       "Text(0.5, 1.0, 'min-max normalized')"
      ]
     },
     "execution_count": 5,
     "metadata": {},
     "output_type": "execute_result"
    },
    {
     "data": {
      "image/png": "[encoded data removed]",
      "text/plain": [
       "<Figure size 600x400 with 2 Axes>"
      ]
     },
     "metadata": {
      "needs_background": "light"
     },
     "output_type": "display_data"
    }
   ],
   "source": [
    "#  visualising distribution\n",
    "figure, axes = plt.subplots(1, 2, sharey=True, dpi=100)\n",
    "sns.histplot(data, ax=axes[0])\n",
    "axes[0].set_title('unnormalized')\n",
    "sns.histplot(normalized, ax=axes[1])\n",
    "axes[1].set_title('min-max normalized')"
   ]
  },
  {
   "cell_type": "markdown",
   "id": "68646764-5b82-4d6c-8657-7b841b2c96f5",
   "metadata": {},
   "source": [
    "# Z-Score Normalization (standardization) example "
   ]
  },
  {
   "cell_type": "code",
   "execution_count": 6,
   "id": "ca07b3b4-af89-4ae6-900d-d03a5afa7a53",
   "metadata": {
    "execution": {
     "iopub.execute_input": "2022-10-20T00:14:36.224045Z",
     "iopub.status.busy": "2022-10-20T00:14:36.223404Z",
     "iopub.status.idle": "2022-10-20T00:14:36.228025Z",
     "shell.execute_reply": "2022-10-20T00:14:36.227474Z",
     "shell.execute_reply.started": "2022-10-20T00:14:36.224025Z"
    }
   },
   "outputs": [],
   "source": [
    "def z_score_normalize(data_points: np.array):\n",
    "  \"\"\"\n",
    "  This function normalizes data by computing\n",
    "  their z-scores  \n",
    "  \"\"\"\n",
    "  #  convert list to numpy array\n",
    "  if type(data_points) == list:\n",
    "    data_points = np.array(data_points)\n",
    "  else:\n",
    "    pass\n",
    "\n",
    "  #  create a list to hold normalized data\n",
    "  normalized = []\n",
    "\n",
    "  #  derive mean and and standard deviation\n",
    "  mean = data_points.mean()\n",
    "  std = data_points.std()\n",
    "\n",
    "  #  convert to list for iteration\n",
    "  data_points = list(data_points)\n",
    "  #  normalizing data\n",
    "  for value in data_points:\n",
    "    normalize = (value-mean)/std\n",
    "    normalized.append(round(normalize, 2))\n",
    "  \n",
    "  return np.array(normalized)"
   ]
  },
  {
   "cell_type": "code",
   "execution_count": 8,
   "id": "5db65406-c0d3-424d-8be4-f135689a9387",
   "metadata": {
    "execution": {
     "iopub.execute_input": "2022-10-20T00:14:51.650269Z",
     "iopub.status.busy": "2022-10-20T00:14:51.649626Z",
     "iopub.status.idle": "2022-10-20T00:14:51.654704Z",
     "shell.execute_reply": "2022-10-20T00:14:51.654252Z",
     "shell.execute_reply.started": "2022-10-20T00:14:51.650248Z"
    }
   },
   "outputs": [
    {
     "data": {
      "text/plain": [
       "0.9992417125000337"
      ]
     },
     "execution_count": 8,
     "metadata": {},
     "output_type": "execute_result"
    }
   ],
   "source": [
    "#  normalizing data points\n",
    "z_normalized = z_score_normalize(data)\n",
    "\n",
    "#  check the mean value\n",
    "z_normalized.mean()\n",
    "# >>>> -0.0006\n",
    "\n",
    "#  check the standard deviation\n",
    "z_normalized.std()\n",
    "# >>>> 1.0000"
   ]
  },
  {
   "cell_type": "code",
   "execution_count": 9,
   "id": "9152dfaa-a1f3-408d-bf66-dc0c9177d02f",
   "metadata": {
    "execution": {
     "iopub.execute_input": "2022-10-20T00:14:58.915679Z",
     "iopub.status.busy": "2022-10-20T00:14:58.915050Z",
     "iopub.status.idle": "2022-10-20T00:14:59.056021Z",
     "shell.execute_reply": "2022-10-20T00:14:59.055344Z",
     "shell.execute_reply.started": "2022-10-20T00:14:58.915660Z"
    }
   },
   "outputs": [
    {
     "data": {
      "text/plain": [
       "Text(0.5, 1.0, 'z-score normalized')"
      ]
     },
     "execution_count": 9,
     "metadata": {},
     "output_type": "execute_result"
    },
    {
     "data": {
      "image/png": "[encoded data removed]",
      "text/plain": [
       "<Figure size 600x400 with 2 Axes>"
      ]
     },
     "metadata": {
      "needs_background": "light"
     },
     "output_type": "display_data"
    }
   ],
   "source": [
    "#  visualizing distributions\n",
    "figure, axes = plt.subplots(1, 2, sharey=True, dpi=100)\n",
    "sns.histplot(data, ax=axes[0])\n",
    "axes[0].set_title('unnormalized')\n",
    "sns.histplot(z_normalized, ax=axes[1])\n",
    "axes[1].set_title('z-score normalized')"
   ]
  },
  {
   "cell_type": "markdown",
   "id": "b2c0874f-c48b-49f8-aab3-678bab201ed8",
   "metadata": {},
   "source": [
    "# Batch Normalization demo\n",
    "\n",
    "Run the following cell to setup the data for the Batch Normalization with Convnets demo. "
   ]
  },
  {
   "cell_type": "code",
   "execution_count": 10,
   "id": "25218f2e-2027-4cc0-9805-ceec8c94f66f",
   "metadata": {
    "execution": {
     "iopub.execute_input": "2022-10-20T00:15:24.792385Z",
     "iopub.status.busy": "2022-10-20T00:15:24.791572Z",
     "iopub.status.idle": "2022-10-20T00:15:43.390597Z",
     "shell.execute_reply": "2022-10-20T00:15:43.389959Z",
     "shell.execute_reply.started": "2022-10-20T00:15:24.792362Z"
    }
   },
   "outputs": [
    {
     "name": "stdout",
     "output_type": "stream",
     "text": [
      "Downloading http://yann.lecun.com/exdb/mnist/train-images-idx3-ubyte.gz\n",
      "Downloading http://yann.lecun.com/exdb/mnist/train-images-idx3-ubyte.gz to ./MNIST/raw/train-images-idx3-ubyte.gz\n"
     ]
    },
    {
     "data": {
      "application/vnd.jupyter.widget-view+json": {
       "model_id": "9e47d035a2e242aab4dd7d3e53810350",
       "version_major": 2,
       "version_minor": 0
      },
      "text/plain": [
       "  0%|          | 0/9912422 [00:00<?, ?it/s]"
      ]
     },
     "metadata": {},
     "output_type": "display_data"
    },
    {
     "name": "stdout",
     "output_type": "stream",
     "text": [
      "Extracting ./MNIST/raw/train-images-idx3-ubyte.gz to ./MNIST/raw\n",
      "\n",
      "Downloading http://yann.lecun.com/exdb/mnist/train-labels-idx1-ubyte.gz\n",
      "Downloading http://yann.lecun.com/exdb/mnist/train-labels-idx1-ubyte.gz to ./MNIST/raw/train-labels-idx1-ubyte.gz\n"
     ]
    },
    {
     "data": {
      "application/vnd.jupyter.widget-view+json": {
       "model_id": "736280797e8f4b948ce0dfe461b7c0e7",
       "version_major": 2,
       "version_minor": 0
      },
      "text/plain": [
       "  0%|          | 0/28881 [00:00<?, ?it/s]"
      ]
     },
     "metadata": {},
     "output_type": "display_data"
    },
    {
     "name": "stdout",
     "output_type": "stream",
     "text": [
      "Extracting ./MNIST/raw/train-labels-idx1-ubyte.gz to ./MNIST/raw\n",
      "\n",
      "Downloading http://yann.lecun.com/exdb/mnist/t10k-images-idx3-ubyte.gz\n",
      "Downloading http://yann.lecun.com/exdb/mnist/t10k-images-idx3-ubyte.gz to ./MNIST/raw/t10k-images-idx3-ubyte.gz\n"
     ]
    },
    {
     "data": {
      "application/vnd.jupyter.widget-view+json": {
       "model_id": "58f2feab0aa140dd9f89da5740e086b8",
       "version_major": 2,
       "version_minor": 0
      },
      "text/plain": [
       "  0%|          | 0/1648877 [00:00<?, ?it/s]"
      ]
     },
     "metadata": {},
     "output_type": "display_data"
    },
    {
     "name": "stdout",
     "output_type": "stream",
     "text": [
      "Extracting ./MNIST/raw/t10k-images-idx3-ubyte.gz to ./MNIST/raw\n",
      "\n",
      "Downloading http://yann.lecun.com/exdb/mnist/t10k-labels-idx1-ubyte.gz\n",
      "Downloading http://yann.lecun.com/exdb/mnist/t10k-labels-idx1-ubyte.gz to ./MNIST/raw/t10k-labels-idx1-ubyte.gz\n"
     ]
    },
    {
     "data": {
      "application/vnd.jupyter.widget-view+json": {
       "model_id": "82a3e3b13eaa49f48b91e248cd65f8e0",
       "version_major": 2,
       "version_minor": 0
      },
      "text/plain": [
       "  0%|          | 0/4542 [00:00<?, ?it/s]"
      ]
     },
     "metadata": {},
     "output_type": "display_data"
    },
    {
     "name": "stdout",
     "output_type": "stream",
     "text": [
      "Extracting ./MNIST/raw/t10k-labels-idx1-ubyte.gz to ./MNIST/raw\n",
      "\n"
     ]
    }
   ],
   "source": [
    "#  loading training data\n",
    "training_set = Datasets.MNIST(root='./', download=True,\n",
    "                              transform=transforms.Compose([transforms.ToTensor(),\n",
    "                                                            transforms.Resize((32, 32))]))\n",
    "\n",
    "#  loading validation data\n",
    "validation_set = Datasets.MNIST(root='./', download=True, train=False,\n",
    "                                transform=transforms.Compose([transforms.ToTensor(),\n",
    "                                                              transforms.Resize((32, 32))]))"
   ]
  },
  {
   "cell_type": "markdown",
   "id": "2c6cf746-15db-4af2-833e-297aa40b0a8a",
   "metadata": {},
   "source": [
    "## The ConvolutionalNeuralNet Class from scratch\n",
    "\n",
    "We will use the code below to create our ConvolutionalNeuralNet Class from scratch. This will inherit from our specialized LeNet5 models to use with our model training later. "
   ]
  },
  {
   "cell_type": "code",
   "execution_count": 11,
   "id": "ede5e5ab-2649-480d-8f0c-86c57c77e03b",
   "metadata": {
    "execution": {
     "iopub.execute_input": "2022-10-20T00:15:43.392262Z",
     "iopub.status.busy": "2022-10-20T00:15:43.392074Z",
     "iopub.status.idle": "2022-10-20T00:15:43.402073Z",
     "shell.execute_reply": "2022-10-20T00:15:43.401529Z",
     "shell.execute_reply.started": "2022-10-20T00:15:43.392246Z"
    }
   },
   "outputs": [],
   "source": [
    "class ConvolutionalNeuralNet():\n",
    "  def __init__(self, network):\n",
    "    self.network = network.to(device)\n",
    "    self.optimizer = torch.optim.Adam(self.network.parameters(), lr=1e-3)\n",
    "\n",
    "  def train(self, loss_function, epochs, batch_size, \n",
    "            training_set, validation_set):\n",
    "    \n",
    "    #  creating log\n",
    "    log_dict = {\n",
    "        'training_loss_per_batch': [],\n",
    "        'validation_loss_per_batch': [],\n",
    "        'training_accuracy_per_epoch': [],\n",
    "        'validation_accuracy_per_epoch': []\n",
    "    } \n",
    "\n",
    "    #  defining weight initialization function\n",
    "    def init_weights(module):\n",
    "      if isinstance(module, nn.Conv2d):\n",
    "        torch.nn.init.xavier_uniform_(module.weight)\n",
    "        module.bias.data.fill_(0.01)\n",
    "      elif isinstance(module, nn.Linear):\n",
    "        torch.nn.init.xavier_uniform_(module.weight)\n",
    "        module.bias.data.fill_(0.01)\n",
    "\n",
    "    #  defining accuracy function\n",
    "    def accuracy(network, dataloader):\n",
    "      network.eval()\n",
    "      total_correct = 0\n",
    "      total_instances = 0\n",
    "      for images, labels in tqdm(dataloader):\n",
    "        images, labels = images.to(device), labels.to(device)\n",
    "        predictions = torch.argmax(network(images), dim=1)\n",
    "        correct_predictions = sum(predictions==labels).item()\n",
    "        total_correct+=correct_predictions\n",
    "        total_instances+=len(images)\n",
    "      return round(total_correct/total_instances, 3)\n",
    "\n",
    "    #  initializing network weights\n",
    "    self.network.apply(init_weights)\n",
    "\n",
    "    #  creating dataloaders\n",
    "    train_loader = DataLoader(training_set, batch_size)\n",
    "    val_loader = DataLoader(validation_set, batch_size)\n",
    "\n",
    "    #  setting convnet to training mode\n",
    "    self.network.train()\n",
    "\n",
    "    for epoch in range(epochs):\n",
    "      print(f'Epoch {epoch+1}/{epochs}')\n",
    "      train_losses = []\n",
    "\n",
    "      #  training\n",
    "      print('training...')\n",
    "      for images, labels in tqdm(train_loader):\n",
    "        #  sending data to device\n",
    "        images, labels = images.to(device), labels.to(device)\n",
    "        #  resetting gradients\n",
    "        self.optimizer.zero_grad()\n",
    "        #  making predictions\n",
    "        predictions = self.network(images)\n",
    "        #  computing loss\n",
    "        loss = loss_function(predictions, labels)\n",
    "        log_dict['training_loss_per_batch'].append(loss.item())\n",
    "        train_losses.append(loss.item())\n",
    "        #  computing gradients\n",
    "        loss.backward()\n",
    "        #  updating weights\n",
    "        self.optimizer.step()\n",
    "      with torch.no_grad():\n",
    "        print('deriving training accuracy...')\n",
    "        #  computing training accuracy\n",
    "        train_accuracy = accuracy(self.network, train_loader)\n",
    "        log_dict['training_accuracy_per_epoch'].append(train_accuracy)\n",
    "\n",
    "      #  validation\n",
    "      print('validating...')\n",
    "      val_losses = []\n",
    "\n",
    "      #  setting convnet to evaluation mode\n",
    "      self.network.eval()\n",
    "\n",
    "      with torch.no_grad():\n",
    "        for images, labels in tqdm(val_loader):\n",
    "          #  sending data to device\n",
    "          images, labels = images.to(device), labels.to(device)\n",
    "          #  making predictions\n",
    "          predictions = self.network(images)\n",
    "          #  computing loss\n",
    "          val_loss = loss_function(predictions, labels)\n",
    "          log_dict['validation_loss_per_batch'].append(val_loss.item())\n",
    "          val_losses.append(val_loss.item())\n",
    "        #  computing accuracy\n",
    "        print('deriving validation accuracy...')\n",
    "        val_accuracy = accuracy(self.network, val_loader)\n",
    "        log_dict['validation_accuracy_per_epoch'].append(val_accuracy)\n",
    "\n",
    "      train_losses = np.array(train_losses).mean()\n",
    "      val_losses = np.array(val_losses).mean()\n",
    "\n",
    "      print(f'training_loss: {round(train_losses, 4)}  training_accuracy: '+\n",
    "      f'{train_accuracy}  validation_loss: {round(val_losses, 4)} '+  \n",
    "      f'validation_accuracy: {val_accuracy}\\n')\n",
    "      \n",
    "    return log_dict\n",
    "\n",
    "  def predict(self, x):\n",
    "    return self.network(x)"
   ]
  },
  {
   "cell_type": "markdown",
   "id": "ce9a82be-d647-4559-98fe-a7f186984b0d",
   "metadata": {},
   "source": [
    "## LeNet5 from Scratch\n",
    "\n",
    "Here will write the standard LeNet5 from scratch. The following cell will train it for ten epochs, and then the final cell of this section will display the training and validation accuracy for each epoch"
   ]
  },
  {
   "cell_type": "code",
   "execution_count": 12,
   "id": "4b4717ac-8cde-4d02-a84a-a0c482233d66",
   "metadata": {
    "execution": {
     "iopub.execute_input": "2022-10-20T00:15:43.404677Z",
     "iopub.status.busy": "2022-10-20T00:15:43.404530Z",
     "iopub.status.idle": "2022-10-20T00:15:43.410105Z",
     "shell.execute_reply": "2022-10-20T00:15:43.409584Z",
     "shell.execute_reply.started": "2022-10-20T00:15:43.404664Z"
    }
   },
   "outputs": [],
   "source": [
    "class LeNet5(nn.Module):\n",
    "  def __init__(self):\n",
    "    super().__init__()\n",
    "    self.conv1 = nn.Conv2d(1, 6, 5)\n",
    "    self.pool1 = nn.AvgPool2d(2)\n",
    "    self.conv2 = nn.Conv2d(6, 16, 5)\n",
    "    self.pool2 = nn.AvgPool2d(2)\n",
    "    self.linear1 = nn.Linear(5*5*16, 120)\n",
    "    self.linear2 = nn.Linear(120, 84)\n",
    "    self.linear3 = nn. Linear(84, 10)\n",
    "\n",
    "  def forward(self, x):\n",
    "    x = x.view(-1, 1, 32, 32)\n",
    "\n",
    "    #----------\n",
    "    # LAYER 1\n",
    "    #----------\n",
    "    output_1 = self.conv1(x)\n",
    "    output_1 = torch.tanh(output_1)\n",
    "    output_1 = self.pool1(output_1)\n",
    "    \n",
    "    #----------\n",
    "    # LAYER 2\n",
    "    #----------\n",
    "    output_2 = self.conv2(output_1)\n",
    "    output_2 = torch.tanh(output_2)\n",
    "    output_2 = self.pool2(output_2)\n",
    "    \n",
    "    #----------\n",
    "    # FLATTEN\n",
    "    #----------\n",
    "    output_2 = output_2.view(-1, 5*5*16)\n",
    "\n",
    "    #----------\n",
    "    # LAYER 3\n",
    "    #----------\n",
    "    output_3 = self.linear1(output_2)\n",
    "    output_3 = torch.tanh(output_3)\n",
    "    \n",
    "    #----------\n",
    "    # LAYER 4\n",
    "    #----------\n",
    "    output_4 = self.linear2(output_3)\n",
    "    output_4 = torch.tanh(output_4)\n",
    "    \n",
    "    #-------------\n",
    "    # OUTPUT LAYER\n",
    "    #-------------\n",
    "    output_5 = self.linear3(output_4)\n",
    "    return(F.softmax(output_5, dim=1))"
   ]
  },
  {
   "cell_type": "code",
   "execution_count": 20,
   "id": "6870e6da-9d7a-4d98-92d7-e16319c7257c",
   "metadata": {
    "execution": {
     "iopub.execute_input": "2022-10-20T00:22:55.963868Z",
     "iopub.status.busy": "2022-10-20T00:22:55.963298Z",
     "iopub.status.idle": "2022-10-20T00:25:45.928159Z",
     "shell.execute_reply": "2022-10-20T00:25:45.927425Z",
     "shell.execute_reply.started": "2022-10-20T00:22:55.963846Z"
    }
   },
   "outputs": [
    {
     "name": "stdout",
     "output_type": "stream",
     "text": [
      "Epoch 1/10\n",
      "training...\n"
     ]
    },
    {
     "data": {
      "application/vnd.jupyter.widget-view+json": {
       "model_id": "1ad98c5016e14a02a5533acd5883c005",
       "version_major": 2,
       "version_minor": 0
      },
      "text/plain": [
       "  0%|          | 0/938 [00:00<?, ?it/s]"
      ]
     },
     "metadata": {},
     "output_type": "display_data"
    },
    {
     "name": "stdout",
     "output_type": "stream",
     "text": [
      "deriving training accuracy...\n"
     ]
    },
    {
     "data": {
      "application/vnd.jupyter.widget-view+json": {
       "model_id": "9379836aff8743358317136f0177cfc6",
       "version_major": 2,
       "version_minor": 0
      },
      "text/plain": [
       "  0%|          | 0/938 [00:00<?, ?it/s]"
      ]
     },
     "metadata": {},
     "output_type": "display_data"
    },
    {
     "name": "stdout",
     "output_type": "stream",
     "text": [
      "validating...\n"
     ]
    },
    {
     "data": {
      "application/vnd.jupyter.widget-view+json": {
       "model_id": "dc0f20552e1d4d70b416eadcaaf487d9",
       "version_major": 2,
       "version_minor": 0
      },
      "text/plain": [
       "  0%|          | 0/157 [00:00<?, ?it/s]"
      ]
     },
     "metadata": {},
     "output_type": "display_data"
    },
    {
     "name": "stdout",
     "output_type": "stream",
     "text": [
      "deriving validation accuracy...\n"
     ]
    },
    {
     "data": {
      "application/vnd.jupyter.widget-view+json": {
       "model_id": "40650dcee4e64aa58f6ffafdae46d404",
       "version_major": 2,
       "version_minor": 0
      },
      "text/plain": [
       "  0%|          | 0/157 [00:00<?, ?it/s]"
      ]
     },
     "metadata": {},
     "output_type": "display_data"
    },
    {
     "name": "stdout",
     "output_type": "stream",
     "text": [
      "training_loss: 1.5751  training_accuracy: 0.95  validation_loss: 1.5151 validation_accuracy: 0.952\n",
      "\n",
      "Epoch 2/10\n",
      "training...\n"
     ]
    },
    {
     "data": {
      "application/vnd.jupyter.widget-view+json": {
       "model_id": "24909d17b5a34b91aea3f86137e733de",
       "version_major": 2,
       "version_minor": 0
      },
      "text/plain": [
       "  0%|          | 0/938 [00:00<?, ?it/s]"
      ]
     },
     "metadata": {},
     "output_type": "display_data"
    },
    {
     "name": "stdout",
     "output_type": "stream",
     "text": [
      "deriving training accuracy...\n"
     ]
    },
    {
     "data": {
      "application/vnd.jupyter.widget-view+json": {
       "model_id": "ff1ed8e1769747f2b6ca30c15b1a1638",
       "version_major": 2,
       "version_minor": 0
      },
      "text/plain": [
       "  0%|          | 0/938 [00:00<?, ?it/s]"
      ]
     },
     "metadata": {},
     "output_type": "display_data"
    },
    {
     "name": "stdout",
     "output_type": "stream",
     "text": [
      "validating...\n"
     ]
    },
    {
     "data": {
      "application/vnd.jupyter.widget-view+json": {
       "model_id": "2163d1dafd9f4ce98e14eaae31db87b9",
       "version_major": 2,
       "version_minor": 0
      },
      "text/plain": [
       "  0%|          | 0/157 [00:00<?, ?it/s]"
      ]
     },
     "metadata": {},
     "output_type": "display_data"
    },
    {
     "name": "stdout",
     "output_type": "stream",
     "text": [
      "deriving validation accuracy...\n"
     ]
    },
    {
     "data": {
      "application/vnd.jupyter.widget-view+json": {
       "model_id": "72ef550f875841028c05ffc251fca7af",
       "version_major": 2,
       "version_minor": 0
      },
      "text/plain": [
       "  0%|          | 0/157 [00:00<?, ?it/s]"
      ]
     },
     "metadata": {},
     "output_type": "display_data"
    },
    {
     "name": "stdout",
     "output_type": "stream",
     "text": [
      "training_loss: 1.5068  training_accuracy: 0.965  validation_loss: 1.4986 validation_accuracy: 0.967\n",
      "\n",
      "Epoch 3/10\n",
      "training...\n"
     ]
    },
    {
     "data": {
      "application/vnd.jupyter.widget-view+json": {
       "model_id": "54e2740fc3e44a299333302e080cd39d",
       "version_major": 2,
       "version_minor": 0
      },
      "text/plain": [
       "  0%|          | 0/938 [00:00<?, ?it/s]"
      ]
     },
     "metadata": {},
     "output_type": "display_data"
    },
    {
     "name": "stdout",
     "output_type": "stream",
     "text": [
      "deriving training accuracy...\n"
     ]
    },
    {
     "data": {
      "application/vnd.jupyter.widget-view+json": {
       "model_id": "38a7343de9724b4ab9dd395c62861f54",
       "version_major": 2,
       "version_minor": 0
      },
      "text/plain": [
       "  0%|          | 0/938 [00:00<?, ?it/s]"
      ]
     },
     "metadata": {},
     "output_type": "display_data"
    },
    {
     "name": "stdout",
     "output_type": "stream",
     "text": [
      "validating...\n"
     ]
    },
    {
     "data": {
      "application/vnd.jupyter.widget-view+json": {
       "model_id": "2cd452bf52304d4a8610594effab53d5",
       "version_major": 2,
       "version_minor": 0
      },
      "text/plain": [
       "  0%|          | 0/157 [00:00<?, ?it/s]"
      ]
     },
     "metadata": {},
     "output_type": "display_data"
    },
    {
     "name": "stdout",
     "output_type": "stream",
     "text": [
      "deriving validation accuracy...\n"
     ]
    },
    {
     "data": {
      "application/vnd.jupyter.widget-view+json": {
       "model_id": "bfa1ac4ebb01459d910cafc4a969dcbb",
       "version_major": 2,
       "version_minor": 0
      },
      "text/plain": [
       "  0%|          | 0/157 [00:00<?, ?it/s]"
      ]
     },
     "metadata": {},
     "output_type": "display_data"
    },
    {
     "name": "stdout",
     "output_type": "stream",
     "text": [
      "training_loss: 1.492  training_accuracy: 0.976  validation_loss: 1.4904 validation_accuracy: 0.973\n",
      "\n",
      "Epoch 4/10\n",
      "training...\n"
     ]
    },
    {
     "data": {
      "application/vnd.jupyter.widget-view+json": {
       "model_id": "abd04e77cf344235be08903dde3a3bc4",
       "version_major": 2,
       "version_minor": 0
      },
      "text/plain": [
       "  0%|          | 0/938 [00:00<?, ?it/s]"
      ]
     },
     "metadata": {},
     "output_type": "display_data"
    },
    {
     "name": "stdout",
     "output_type": "stream",
     "text": [
      "deriving training accuracy...\n"
     ]
    },
    {
     "data": {
      "application/vnd.jupyter.widget-view+json": {
       "model_id": "c97366afe2ff4145a394ca6dd5754b9c",
       "version_major": 2,
       "version_minor": 0
      },
      "text/plain": [
       "  0%|          | 0/938 [00:00<?, ?it/s]"
      ]
     },
     "metadata": {},
     "output_type": "display_data"
    },
    {
     "name": "stdout",
     "output_type": "stream",
     "text": [
      "validating...\n"
     ]
    },
    {
     "data": {
      "application/vnd.jupyter.widget-view+json": {
       "model_id": "deca494bcfc348e8b051bb6e3546ac35",
       "version_major": 2,
       "version_minor": 0
      },
      "text/plain": [
       "  0%|          | 0/157 [00:00<?, ?it/s]"
      ]
     },
     "metadata": {},
     "output_type": "display_data"
    },
    {
     "name": "stdout",
     "output_type": "stream",
     "text": [
      "deriving validation accuracy...\n"
     ]
    },
    {
     "data": {
      "application/vnd.jupyter.widget-view+json": {
       "model_id": "2d124bf6b65a4c5f822333ef24d7f46b",
       "version_major": 2,
       "version_minor": 0
      },
      "text/plain": [
       "  0%|          | 0/157 [00:00<?, ?it/s]"
      ]
     },
     "metadata": {},
     "output_type": "display_data"
    },
    {
     "name": "stdout",
     "output_type": "stream",
     "text": [
      "training_loss: 1.4855  training_accuracy: 0.98  validation_loss: 1.4861 validation_accuracy: 0.976\n",
      "\n",
      "Epoch 5/10\n",
      "training...\n"
     ]
    },
    {
     "data": {
      "application/vnd.jupyter.widget-view+json": {
       "model_id": "b0f4db06a7ed4cf69f702652bb36580f",
       "version_major": 2,
       "version_minor": 0
      },
      "text/plain": [
       "  0%|          | 0/938 [00:00<?, ?it/s]"
      ]
     },
     "metadata": {},
     "output_type": "display_data"
    },
    {
     "name": "stdout",
     "output_type": "stream",
     "text": [
      "deriving training accuracy...\n"
     ]
    },
    {
     "data": {
      "application/vnd.jupyter.widget-view+json": {
       "model_id": "3c61e61a420b495299ffdfc3cc68798c",
       "version_major": 2,
       "version_minor": 0
      },
      "text/plain": [
       "  0%|          | 0/938 [00:00<?, ?it/s]"
      ]
     },
     "metadata": {},
     "output_type": "display_data"
    },
    {
     "name": "stdout",
     "output_type": "stream",
     "text": [
      "validating...\n"
     ]
    },
    {
     "data": {
      "application/vnd.jupyter.widget-view+json": {
       "model_id": "bd99ba98f0ab419db4748d65179140dd",
       "version_major": 2,
       "version_minor": 0
      },
      "text/plain": [
       "  0%|          | 0/157 [00:00<?, ?it/s]"
      ]
     },
     "metadata": {},
     "output_type": "display_data"
    },
    {
     "name": "stdout",
     "output_type": "stream",
     "text": [
      "deriving validation accuracy...\n"
     ]
    },
    {
     "data": {
      "application/vnd.jupyter.widget-view+json": {
       "model_id": "7bdc2772065d497fa08c54341fa279c0",
       "version_major": 2,
       "version_minor": 0
      },
      "text/plain": [
       "  0%|          | 0/157 [00:00<?, ?it/s]"
      ]
     },
     "metadata": {},
     "output_type": "display_data"
    },
    {
     "name": "stdout",
     "output_type": "stream",
     "text": [
      "training_loss: 1.4818  training_accuracy: 0.985  validation_loss: 1.4827 validation_accuracy: 0.979\n",
      "\n",
      "Epoch 6/10\n",
      "training...\n"
     ]
    },
    {
     "data": {
      "application/vnd.jupyter.widget-view+json": {
       "model_id": "3318d3353f2a488aba12e451fdee5744",
       "version_major": 2,
       "version_minor": 0
      },
      "text/plain": [
       "  0%|          | 0/938 [00:00<?, ?it/s]"
      ]
     },
     "metadata": {},
     "output_type": "display_data"
    },
    {
     "name": "stdout",
     "output_type": "stream",
     "text": [
      "deriving training accuracy...\n"
     ]
    },
    {
     "data": {
      "application/vnd.jupyter.widget-view+json": {
       "model_id": "8e09ba57a236411cb508154327292b45",
       "version_major": 2,
       "version_minor": 0
      },
      "text/plain": [
       "  0%|          | 0/938 [00:00<?, ?it/s]"
      ]
     },
     "metadata": {},
     "output_type": "display_data"
    },
    {
     "name": "stdout",
     "output_type": "stream",
     "text": [
      "validating...\n"
     ]
    },
    {
     "data": {
      "application/vnd.jupyter.widget-view+json": {
       "model_id": "3c32f04d96834645a9c3e5529fa9b377",
       "version_major": 2,
       "version_minor": 0
      },
      "text/plain": [
       "  0%|          | 0/157 [00:00<?, ?it/s]"
      ]
     },
     "metadata": {},
     "output_type": "display_data"
    },
    {
     "name": "stdout",
     "output_type": "stream",
     "text": [
      "deriving validation accuracy...\n"
     ]
    },
    {
     "data": {
      "application/vnd.jupyter.widget-view+json": {
       "model_id": "58f5b48bdc11463fafeb529429240677",
       "version_major": 2,
       "version_minor": 0
      },
      "text/plain": [
       "  0%|          | 0/157 [00:00<?, ?it/s]"
      ]
     },
     "metadata": {},
     "output_type": "display_data"
    },
    {
     "name": "stdout",
     "output_type": "stream",
     "text": [
      "training_loss: 1.4789  training_accuracy: 0.985  validation_loss: 1.4831 validation_accuracy: 0.979\n",
      "\n",
      "Epoch 7/10\n",
      "training...\n"
     ]
    },
    {
     "data": {
      "application/vnd.jupyter.widget-view+json": {
       "model_id": "bf83a25a50b94c0f8516e01da603f2c8",
       "version_major": 2,
       "version_minor": 0
      },
      "text/plain": [
       "  0%|          | 0/938 [00:00<?, ?it/s]"
      ]
     },
     "metadata": {},
     "output_type": "display_data"
    },
    {
     "name": "stdout",
     "output_type": "stream",
     "text": [
      "deriving training accuracy...\n"
     ]
    },
    {
     "data": {
      "application/vnd.jupyter.widget-view+json": {
       "model_id": "439d71a372ef4785908ad2217c60135f",
       "version_major": 2,
       "version_minor": 0
      },
      "text/plain": [
       "  0%|          | 0/938 [00:00<?, ?it/s]"
      ]
     },
     "metadata": {},
     "output_type": "display_data"
    },
    {
     "name": "stdout",
     "output_type": "stream",
     "text": [
      "validating...\n"
     ]
    },
    {
     "data": {
      "application/vnd.jupyter.widget-view+json": {
       "model_id": "2c86e04d6073420da85ae433d9bfc40a",
       "version_major": 2,
       "version_minor": 0
      },
      "text/plain": [
       "  0%|          | 0/157 [00:00<?, ?it/s]"
      ]
     },
     "metadata": {},
     "output_type": "display_data"
    },
    {
     "name": "stdout",
     "output_type": "stream",
     "text": [
      "deriving validation accuracy...\n"
     ]
    },
    {
     "data": {
      "application/vnd.jupyter.widget-view+json": {
       "model_id": "71df15a64d9540f0b94144885658a788",
       "version_major": 2,
       "version_minor": 0
      },
      "text/plain": [
       "  0%|          | 0/157 [00:00<?, ?it/s]"
      ]
     },
     "metadata": {},
     "output_type": "display_data"
    },
    {
     "name": "stdout",
     "output_type": "stream",
     "text": [
      "training_loss: 1.4766  training_accuracy: 0.988  validation_loss: 1.4812 validation_accuracy: 0.981\n",
      "\n",
      "Epoch 8/10\n",
      "training...\n"
     ]
    },
    {
     "data": {
      "application/vnd.jupyter.widget-view+json": {
       "model_id": "ddadb615fec848c4823a1cf0aaa2b886",
       "version_major": 2,
       "version_minor": 0
      },
      "text/plain": [
       "  0%|          | 0/938 [00:00<?, ?it/s]"
      ]
     },
     "metadata": {},
     "output_type": "display_data"
    },
    {
     "name": "stdout",
     "output_type": "stream",
     "text": [
      "deriving training accuracy...\n"
     ]
    },
    {
     "data": {
      "application/vnd.jupyter.widget-view+json": {
       "model_id": "314cad6ac8974fa39284b7d6031a48e9",
       "version_major": 2,
       "version_minor": 0
      },
      "text/plain": [
       "  0%|          | 0/938 [00:00<?, ?it/s]"
      ]
     },
     "metadata": {},
     "output_type": "display_data"
    },
    {
     "name": "stdout",
     "output_type": "stream",
     "text": [
      "validating...\n"
     ]
    },
    {
     "data": {
      "application/vnd.jupyter.widget-view+json": {
       "model_id": "9c03cef82ac74d4c8c81e12da2a92821",
       "version_major": 2,
       "version_minor": 0
      },
      "text/plain": [
       "  0%|          | 0/157 [00:00<?, ?it/s]"
      ]
     },
     "metadata": {},
     "output_type": "display_data"
    },
    {
     "name": "stdout",
     "output_type": "stream",
     "text": [
      "deriving validation accuracy...\n"
     ]
    },
    {
     "data": {
      "application/vnd.jupyter.widget-view+json": {
       "model_id": "34544cf665cc41299b90ce5498e529a5",
       "version_major": 2,
       "version_minor": 0
      },
      "text/plain": [
       "  0%|          | 0/157 [00:00<?, ?it/s]"
      ]
     },
     "metadata": {},
     "output_type": "display_data"
    },
    {
     "name": "stdout",
     "output_type": "stream",
     "text": [
      "training_loss: 1.4754  training_accuracy: 0.987  validation_loss: 1.483 validation_accuracy: 0.979\n",
      "\n",
      "Epoch 9/10\n",
      "training...\n"
     ]
    },
    {
     "data": {
      "application/vnd.jupyter.widget-view+json": {
       "model_id": "6a59e904e65d404e92bf7b235940d50a",
       "version_major": 2,
       "version_minor": 0
      },
      "text/plain": [
       "  0%|          | 0/938 [00:00<?, ?it/s]"
      ]
     },
     "metadata": {},
     "output_type": "display_data"
    },
    {
     "name": "stdout",
     "output_type": "stream",
     "text": [
      "deriving training accuracy...\n"
     ]
    },
    {
     "data": {
      "application/vnd.jupyter.widget-view+json": {
       "model_id": "d88ad788df8349a09166019ad1a32212",
       "version_major": 2,
       "version_minor": 0
      },
      "text/plain": [
       "  0%|          | 0/938 [00:00<?, ?it/s]"
      ]
     },
     "metadata": {},
     "output_type": "display_data"
    },
    {
     "name": "stdout",
     "output_type": "stream",
     "text": [
      "validating...\n"
     ]
    },
    {
     "data": {
      "application/vnd.jupyter.widget-view+json": {
       "model_id": "e6509c56126d40b3a943dbbcf039b961",
       "version_major": 2,
       "version_minor": 0
      },
      "text/plain": [
       "  0%|          | 0/157 [00:00<?, ?it/s]"
      ]
     },
     "metadata": {},
     "output_type": "display_data"
    },
    {
     "name": "stdout",
     "output_type": "stream",
     "text": [
      "deriving validation accuracy...\n"
     ]
    },
    {
     "data": {
      "application/vnd.jupyter.widget-view+json": {
       "model_id": "73e4b648fcc04b9cba89a77ee7f6f628",
       "version_major": 2,
       "version_minor": 0
      },
      "text/plain": [
       "  0%|          | 0/157 [00:00<?, ?it/s]"
      ]
     },
     "metadata": {},
     "output_type": "display_data"
    },
    {
     "name": "stdout",
     "output_type": "stream",
     "text": [
      "training_loss: 1.4737  training_accuracy: 0.991  validation_loss: 1.4777 validation_accuracy: 0.984\n",
      "\n",
      "Epoch 10/10\n",
      "training...\n"
     ]
    },
    {
     "data": {
      "application/vnd.jupyter.widget-view+json": {
       "model_id": "c354a96fb90f4f86b50f2306db605bba",
       "version_major": 2,
       "version_minor": 0
      },
      "text/plain": [
       "  0%|          | 0/938 [00:00<?, ?it/s]"
      ]
     },
     "metadata": {},
     "output_type": "display_data"
    },
    {
     "name": "stdout",
     "output_type": "stream",
     "text": [
      "deriving training accuracy...\n"
     ]
    },
    {
     "data": {
      "application/vnd.jupyter.widget-view+json": {
       "model_id": "8845fbfae35949f18bf6922a2de0353f",
       "version_major": 2,
       "version_minor": 0
      },
      "text/plain": [
       "  0%|          | 0/938 [00:00<?, ?it/s]"
      ]
     },
     "metadata": {},
     "output_type": "display_data"
    },
    {
     "name": "stdout",
     "output_type": "stream",
     "text": [
      "validating...\n"
     ]
    },
    {
     "data": {
      "application/vnd.jupyter.widget-view+json": {
       "model_id": "79d895bd107246f489fc9da9dd856f38",
       "version_major": 2,
       "version_minor": 0
      },
      "text/plain": [
       "  0%|          | 0/157 [00:00<?, ?it/s]"
      ]
     },
     "metadata": {},
     "output_type": "display_data"
    },
    {
     "name": "stdout",
     "output_type": "stream",
     "text": [
      "deriving validation accuracy...\n"
     ]
    },
    {
     "data": {
      "application/vnd.jupyter.widget-view+json": {
       "model_id": "ee7656f47ce044e3b51d64a348db9da2",
       "version_major": 2,
       "version_minor": 0
      },
      "text/plain": [
       "  0%|          | 0/157 [00:00<?, ?it/s]"
      ]
     },
     "metadata": {},
     "output_type": "display_data"
    },
    {
     "name": "stdout",
     "output_type": "stream",
     "text": [
      "training_loss: 1.4731  training_accuracy: 0.991  validation_loss: 1.4775 validation_accuracy: 0.984\n",
      "\n"
     ]
    }
   ],
   "source": [
    "#  training model 1\n",
    "model_1 = ConvolutionalNeuralNet(LeNet5())\n",
    "\n",
    "log_dict_1 = model_1.train(nn.CrossEntropyLoss(), epochs=10, batch_size=64, \n",
    "                       training_set=training_set, validation_set=validation_set)"
   ]
  },
  {
   "cell_type": "code",
   "execution_count": 21,
   "id": "595f453b-11af-41ca-8abe-f3082fbf7f01",
   "metadata": {
    "execution": {
     "iopub.execute_input": "2022-10-20T00:25:45.931249Z",
     "iopub.status.busy": "2022-10-20T00:25:45.931071Z",
     "iopub.status.idle": "2022-10-20T00:25:46.034351Z",
     "shell.execute_reply": "2022-10-20T00:25:46.033812Z",
     "shell.execute_reply.started": "2022-10-20T00:25:45.931232Z"
    }
   },
   "outputs": [
    {
     "data": {
      "text/plain": [
       "Text(0, 0.5, 'accuracy')"
      ]
     },
     "execution_count": 21,
     "metadata": {},
     "output_type": "execute_result"
    },
    {
     "data": {
      "image/png": "[encoded data removed]",
      "text/plain": [
       "<Figure size 432x288 with 1 Axes>"
      ]
     },
     "metadata": {
      "needs_background": "light"
     },
     "output_type": "display_data"
    }
   ],
   "source": [
    "sns.lineplot(y=log_dict_1['training_accuracy_per_epoch'], x=range(len(log_dict_1['training_accuracy_per_epoch'])), label='training')\n",
    "\n",
    "sns.lineplot(y=log_dict_1['validation_accuracy_per_epoch'], x=range(len(log_dict_1['validation_accuracy_per_epoch'])), label='validation')\n",
    "\n",
    "plt.xlabel('epoch')\n",
    "plt.ylabel('accuracy')"
   ]
  },
  {
   "cell_type": "markdown",
   "id": "de2bde00-83f5-48eb-af09-318cc972166d",
   "metadata": {},
   "source": [
    "# LeNet5 with Batch Normalization from scratch\n",
    "\n",
    "Here will write the standard LeNet5 from scratch with batch normalization. The following cell will train it for ten epochs, and then the final cell of this section will display the training and validation accuracy for each epoch. \n",
    "\n",
    "Use this to compare the accuracies of the two formulations of the LeNet5 architecture. "
   ]
  },
  {
   "cell_type": "code",
   "execution_count": 17,
   "id": "c7b9a830-ab4a-41d6-b1c3-09f490dc8d9d",
   "metadata": {
    "execution": {
     "iopub.execute_input": "2022-10-20T00:17:28.714221Z",
     "iopub.status.busy": "2022-10-20T00:17:28.714025Z",
     "iopub.status.idle": "2022-10-20T00:17:28.719834Z",
     "shell.execute_reply": "2022-10-20T00:17:28.719244Z",
     "shell.execute_reply.started": "2022-10-20T00:17:28.714205Z"
    }
   },
   "outputs": [],
   "source": [
    "class LeNet5_BatchNorm(nn.Module):\n",
    "  def __init__(self):\n",
    "    super().__init__()\n",
    "    self.conv1 = nn.Conv2d(1, 6, 5)\n",
    "    self.batchnorm1 = nn.BatchNorm2d(6)\n",
    "    self.pool1 = nn.AvgPool2d(2)\n",
    "    self.conv2 = nn.Conv2d(6, 16, 5)\n",
    "    self.batchnorm2 = nn.BatchNorm2d(16)\n",
    "    self.pool2 = nn.AvgPool2d(2)\n",
    "    self.linear1 = nn.Linear(5*5*16, 120)\n",
    "    self.linear2 = nn.Linear(120, 84)\n",
    "    self.linear3 = nn. Linear(84, 10)\n",
    "\n",
    "  def forward(self, x):\n",
    "    x = x.view(-1, 1, 32, 32)\n",
    "\n",
    "    #----------\n",
    "    # LAYER 1\n",
    "    #----------\n",
    "    output_1 = self.conv1(x)\n",
    "    output_1 = torch.tanh(output_1)\n",
    "    output_1 = self.batchnorm1(output_1)\n",
    "    output_1 = self.pool1(output_1)\n",
    "    \n",
    "    #----------\n",
    "    # LAYER 2\n",
    "    #----------\n",
    "    output_2 = self.conv2(output_1)\n",
    "    output_2 = torch.tanh(output_2)\n",
    "    output_2 = self.batchnorm2(output_2)\n",
    "    output_2 = self.pool2(output_2)\n",
    "    \n",
    "    #----------\n",
    "    # FLATTEN\n",
    "    #----------\n",
    "    output_2 = output_2.view(-1, 5*5*16)\n",
    "\n",
    "    #----------\n",
    "    # LAYER 3\n",
    "    #----------\n",
    "    output_3 = self.linear1(output_2)\n",
    "    output_3 = torch.tanh(output_3)\n",
    "    \n",
    "    #----------\n",
    "    # LAYER 4\n",
    "    #----------\n",
    "    output_4 = self.linear2(output_3)\n",
    "    output_4 = torch.tanh(output_4)\n",
    "    \n",
    "    #-------------\n",
    "    # OUTPUT LAYER\n",
    "    #-------------\n",
    "    output_5 = self.linear3(output_4)\n",
    "    return(F.softmax(output_5, dim=1))"
   ]
  },
  {
   "cell_type": "code",
   "execution_count": 18,
   "id": "159faa9c-3adf-46ce-9ede-c5d8be3e6f8f",
   "metadata": {
    "execution": {
     "iopub.execute_input": "2022-10-20T00:17:28.722510Z",
     "iopub.status.busy": "2022-10-20T00:17:28.722345Z",
     "iopub.status.idle": "2022-10-20T00:20:22.378629Z",
     "shell.execute_reply": "2022-10-20T00:20:22.377788Z",
     "shell.execute_reply.started": "2022-10-20T00:17:28.722494Z"
    }
   },
   "outputs": [
    {
     "name": "stdout",
     "output_type": "stream",
     "text": [
      "Epoch 1/10\n",
      "training...\n"
     ]
    },
    {
     "data": {
      "application/vnd.jupyter.widget-view+json": {
       "model_id": "c5b68ac4501440069cf81560e5c2dc8a",
       "version_major": 2,
       "version_minor": 0
      },
      "text/plain": [
       "  0%|          | 0/938 [00:00<?, ?it/s]"
      ]
     },
     "metadata": {},
     "output_type": "display_data"
    },
    {
     "name": "stdout",
     "output_type": "stream",
     "text": [
      "deriving training accuracy...\n"
     ]
    },
    {
     "data": {
      "application/vnd.jupyter.widget-view+json": {
       "model_id": "07bbbb9985db433f869656860e1fea3c",
       "version_major": 2,
       "version_minor": 0
      },
      "text/plain": [
       "  0%|          | 0/938 [00:00<?, ?it/s]"
      ]
     },
     "metadata": {},
     "output_type": "display_data"
    },
    {
     "name": "stdout",
     "output_type": "stream",
     "text": [
      "validating...\n"
     ]
    },
    {
     "data": {
      "application/vnd.jupyter.widget-view+json": {
       "model_id": "f70ab682cf72405b95c722b74edcb8bb",
       "version_major": 2,
       "version_minor": 0
      },
      "text/plain": [
       "  0%|          | 0/157 [00:00<?, ?it/s]"
      ]
     },
     "metadata": {},
     "output_type": "display_data"
    },
    {
     "name": "stdout",
     "output_type": "stream",
     "text": [
      "deriving validation accuracy...\n"
     ]
    },
    {
     "data": {
      "application/vnd.jupyter.widget-view+json": {
       "model_id": "161e10b3a6134bfabb75e24477532143",
       "version_major": 2,
       "version_minor": 0
      },
      "text/plain": [
       "  0%|          | 0/157 [00:00<?, ?it/s]"
      ]
     },
     "metadata": {},
     "output_type": "display_data"
    },
    {
     "name": "stdout",
     "output_type": "stream",
     "text": [
      "training_loss: 1.5437  training_accuracy: 0.967  validation_loss: 1.4965 validation_accuracy: 0.969\n",
      "\n",
      "Epoch 2/10\n",
      "training...\n"
     ]
    },
    {
     "data": {
      "application/vnd.jupyter.widget-view+json": {
       "model_id": "313f7b6c831047eda2269fc0e7eb57cf",
       "version_major": 2,
       "version_minor": 0
      },
      "text/plain": [
       "  0%|          | 0/938 [00:00<?, ?it/s]"
      ]
     },
     "metadata": {},
     "output_type": "display_data"
    },
    {
     "name": "stdout",
     "output_type": "stream",
     "text": [
      "deriving training accuracy...\n"
     ]
    },
    {
     "data": {
      "application/vnd.jupyter.widget-view+json": {
       "model_id": "7b3b4dbd92b745e49a21c244a03ac3b5",
       "version_major": 2,
       "version_minor": 0
      },
      "text/plain": [
       "  0%|          | 0/938 [00:00<?, ?it/s]"
      ]
     },
     "metadata": {},
     "output_type": "display_data"
    },
    {
     "name": "stdout",
     "output_type": "stream",
     "text": [
      "validating...\n"
     ]
    },
    {
     "data": {
      "application/vnd.jupyter.widget-view+json": {
       "model_id": "4dfcc29e3c9d42b0b5c72e65c3221b73",
       "version_major": 2,
       "version_minor": 0
      },
      "text/plain": [
       "  0%|          | 0/157 [00:00<?, ?it/s]"
      ]
     },
     "metadata": {},
     "output_type": "display_data"
    },
    {
     "name": "stdout",
     "output_type": "stream",
     "text": [
      "deriving validation accuracy...\n"
     ]
    },
    {
     "data": {
      "application/vnd.jupyter.widget-view+json": {
       "model_id": "dead7232f5274e86ba66b3ff3a0ca3f9",
       "version_major": 2,
       "version_minor": 0
      },
      "text/plain": [
       "  0%|          | 0/157 [00:00<?, ?it/s]"
      ]
     },
     "metadata": {},
     "output_type": "display_data"
    },
    {
     "name": "stdout",
     "output_type": "stream",
     "text": [
      "training_loss: 1.4902  training_accuracy: 0.98  validation_loss: 1.4867 validation_accuracy: 0.977\n",
      "\n",
      "Epoch 3/10\n",
      "training...\n"
     ]
    },
    {
     "data": {
      "application/vnd.jupyter.widget-view+json": {
       "model_id": "52e728caeac54eb8a3a8f511236db36f",
       "version_major": 2,
       "version_minor": 0
      },
      "text/plain": [
       "  0%|          | 0/938 [00:00<?, ?it/s]"
      ]
     },
     "metadata": {},
     "output_type": "display_data"
    },
    {
     "name": "stdout",
     "output_type": "stream",
     "text": [
      "deriving training accuracy...\n"
     ]
    },
    {
     "data": {
      "application/vnd.jupyter.widget-view+json": {
       "model_id": "d9c531aa6dbe44078a79ee318b8ff9b5",
       "version_major": 2,
       "version_minor": 0
      },
      "text/plain": [
       "  0%|          | 0/938 [00:00<?, ?it/s]"
      ]
     },
     "metadata": {},
     "output_type": "display_data"
    },
    {
     "name": "stdout",
     "output_type": "stream",
     "text": [
      "validating...\n"
     ]
    },
    {
     "data": {
      "application/vnd.jupyter.widget-view+json": {
       "model_id": "b1f7b469fde846f6afbe45b6851c7626",
       "version_major": 2,
       "version_minor": 0
      },
      "text/plain": [
       "  0%|          | 0/157 [00:00<?, ?it/s]"
      ]
     },
     "metadata": {},
     "output_type": "display_data"
    },
    {
     "name": "stdout",
     "output_type": "stream",
     "text": [
      "deriving validation accuracy...\n"
     ]
    },
    {
     "data": {
      "application/vnd.jupyter.widget-view+json": {
       "model_id": "7f7af92935024eb48e7cd4f1775621b2",
       "version_major": 2,
       "version_minor": 0
      },
      "text/plain": [
       "  0%|          | 0/157 [00:00<?, ?it/s]"
      ]
     },
     "metadata": {},
     "output_type": "display_data"
    },
    {
     "name": "stdout",
     "output_type": "stream",
     "text": [
      "training_loss: 1.4813  training_accuracy: 0.986  validation_loss: 1.4797 validation_accuracy: 0.982\n",
      "\n",
      "Epoch 4/10\n",
      "training...\n"
     ]
    },
    {
     "data": {
      "application/vnd.jupyter.widget-view+json": {
       "model_id": "b62693213d284b94af531b84524c41e2",
       "version_major": 2,
       "version_minor": 0
      },
      "text/plain": [
       "  0%|          | 0/938 [00:00<?, ?it/s]"
      ]
     },
     "metadata": {},
     "output_type": "display_data"
    },
    {
     "name": "stdout",
     "output_type": "stream",
     "text": [
      "deriving training accuracy...\n"
     ]
    },
    {
     "data": {
      "application/vnd.jupyter.widget-view+json": {
       "model_id": "44cc60c783014d0a85d7ab54f26812cc",
       "version_major": 2,
       "version_minor": 0
      },
      "text/plain": [
       "  0%|          | 0/938 [00:00<?, ?it/s]"
      ]
     },
     "metadata": {},
     "output_type": "display_data"
    },
    {
     "name": "stdout",
     "output_type": "stream",
     "text": [
      "validating...\n"
     ]
    },
    {
     "data": {
      "application/vnd.jupyter.widget-view+json": {
       "model_id": "d6c4760592b947acb567cb3fb2291622",
       "version_major": 2,
       "version_minor": 0
      },
      "text/plain": [
       "  0%|          | 0/157 [00:00<?, ?it/s]"
      ]
     },
     "metadata": {},
     "output_type": "display_data"
    },
    {
     "name": "stdout",
     "output_type": "stream",
     "text": [
      "deriving validation accuracy...\n"
     ]
    },
    {
     "data": {
      "application/vnd.jupyter.widget-view+json": {
       "model_id": "df38b06f91454a50b06f903fefc69d3c",
       "version_major": 2,
       "version_minor": 0
      },
      "text/plain": [
       "  0%|          | 0/157 [00:00<?, ?it/s]"
      ]
     },
     "metadata": {},
     "output_type": "display_data"
    },
    {
     "name": "stdout",
     "output_type": "stream",
     "text": [
      "training_loss: 1.4776  training_accuracy: 0.988  validation_loss: 1.4781 validation_accuracy: 0.984\n",
      "\n",
      "Epoch 5/10\n",
      "training...\n"
     ]
    },
    {
     "data": {
      "application/vnd.jupyter.widget-view+json": {
       "model_id": "2ad0bf92d105416e9622a816ca9f8d24",
       "version_major": 2,
       "version_minor": 0
      },
      "text/plain": [
       "  0%|          | 0/938 [00:00<?, ?it/s]"
      ]
     },
     "metadata": {},
     "output_type": "display_data"
    },
    {
     "name": "stdout",
     "output_type": "stream",
     "text": [
      "deriving training accuracy...\n"
     ]
    },
    {
     "data": {
      "application/vnd.jupyter.widget-view+json": {
       "model_id": "dfa4fca3617c4a41a3ee5368741b1b54",
       "version_major": 2,
       "version_minor": 0
      },
      "text/plain": [
       "  0%|          | 0/938 [00:00<?, ?it/s]"
      ]
     },
     "metadata": {},
     "output_type": "display_data"
    },
    {
     "name": "stdout",
     "output_type": "stream",
     "text": [
      "validating...\n"
     ]
    },
    {
     "data": {
      "application/vnd.jupyter.widget-view+json": {
       "model_id": "9262ad040f2a46fa9ef3589463f31be6",
       "version_major": 2,
       "version_minor": 0
      },
      "text/plain": [
       "  0%|          | 0/157 [00:00<?, ?it/s]"
      ]
     },
     "metadata": {},
     "output_type": "display_data"
    },
    {
     "name": "stdout",
     "output_type": "stream",
     "text": [
      "deriving validation accuracy...\n"
     ]
    },
    {
     "data": {
      "application/vnd.jupyter.widget-view+json": {
       "model_id": "afa205a18ec74f70bb9e234bce696d51",
       "version_major": 2,
       "version_minor": 0
      },
      "text/plain": [
       "  0%|          | 0/157 [00:00<?, ?it/s]"
      ]
     },
     "metadata": {},
     "output_type": "display_data"
    },
    {
     "name": "stdout",
     "output_type": "stream",
     "text": [
      "training_loss: 1.4748  training_accuracy: 0.988  validation_loss: 1.4783 validation_accuracy: 0.984\n",
      "\n",
      "Epoch 6/10\n",
      "training...\n"
     ]
    },
    {
     "data": {
      "application/vnd.jupyter.widget-view+json": {
       "model_id": "e7fafc2cc5164472b197b40bf49e7d9e",
       "version_major": 2,
       "version_minor": 0
      },
      "text/plain": [
       "  0%|          | 0/938 [00:00<?, ?it/s]"
      ]
     },
     "metadata": {},
     "output_type": "display_data"
    },
    {
     "name": "stdout",
     "output_type": "stream",
     "text": [
      "deriving training accuracy...\n"
     ]
    },
    {
     "data": {
      "application/vnd.jupyter.widget-view+json": {
       "model_id": "2794b39da4684256979c8b9b3d3e4f82",
       "version_major": 2,
       "version_minor": 0
      },
      "text/plain": [
       "  0%|          | 0/938 [00:00<?, ?it/s]"
      ]
     },
     "metadata": {},
     "output_type": "display_data"
    },
    {
     "name": "stdout",
     "output_type": "stream",
     "text": [
      "validating...\n"
     ]
    },
    {
     "data": {
      "application/vnd.jupyter.widget-view+json": {
       "model_id": "666dd56bd5264d648e88355c7311b39a",
       "version_major": 2,
       "version_minor": 0
      },
      "text/plain": [
       "  0%|          | 0/157 [00:00<?, ?it/s]"
      ]
     },
     "metadata": {},
     "output_type": "display_data"
    },
    {
     "name": "stdout",
     "output_type": "stream",
     "text": [
      "deriving validation accuracy...\n"
     ]
    },
    {
     "data": {
      "application/vnd.jupyter.widget-view+json": {
       "model_id": "aa72514bef724a2db70868be7ca5f17b",
       "version_major": 2,
       "version_minor": 0
      },
      "text/plain": [
       "  0%|          | 0/157 [00:00<?, ?it/s]"
      ]
     },
     "metadata": {},
     "output_type": "display_data"
    },
    {
     "name": "stdout",
     "output_type": "stream",
     "text": [
      "training_loss: 1.4738  training_accuracy: 0.991  validation_loss: 1.4774 validation_accuracy: 0.985\n",
      "\n",
      "Epoch 7/10\n",
      "training...\n"
     ]
    },
    {
     "data": {
      "application/vnd.jupyter.widget-view+json": {
       "model_id": "ce8ca4cec0b74b7eadf60439e16d2130",
       "version_major": 2,
       "version_minor": 0
      },
      "text/plain": [
       "  0%|          | 0/938 [00:00<?, ?it/s]"
      ]
     },
     "metadata": {},
     "output_type": "display_data"
    },
    {
     "name": "stdout",
     "output_type": "stream",
     "text": [
      "deriving training accuracy...\n"
     ]
    },
    {
     "data": {
      "application/vnd.jupyter.widget-view+json": {
       "model_id": "525f9cf097c54e6a84d5f1c64e265b28",
       "version_major": 2,
       "version_minor": 0
      },
      "text/plain": [
       "  0%|          | 0/938 [00:00<?, ?it/s]"
      ]
     },
     "metadata": {},
     "output_type": "display_data"
    },
    {
     "name": "stdout",
     "output_type": "stream",
     "text": [
      "validating...\n"
     ]
    },
    {
     "data": {
      "application/vnd.jupyter.widget-view+json": {
       "model_id": "a0a3d4c460c946ebba9bb4eee0aefc2d",
       "version_major": 2,
       "version_minor": 0
      },
      "text/plain": [
       "  0%|          | 0/157 [00:00<?, ?it/s]"
      ]
     },
     "metadata": {},
     "output_type": "display_data"
    },
    {
     "name": "stdout",
     "output_type": "stream",
     "text": [
      "deriving validation accuracy...\n"
     ]
    },
    {
     "data": {
      "application/vnd.jupyter.widget-view+json": {
       "model_id": "65409080d5bc4e8bbe6852311f1b828b",
       "version_major": 2,
       "version_minor": 0
      },
      "text/plain": [
       "  0%|          | 0/157 [00:00<?, ?it/s]"
      ]
     },
     "metadata": {},
     "output_type": "display_data"
    },
    {
     "name": "stdout",
     "output_type": "stream",
     "text": [
      "training_loss: 1.472  training_accuracy: 0.99  validation_loss: 1.4775 validation_accuracy: 0.985\n",
      "\n",
      "Epoch 8/10\n",
      "training...\n"
     ]
    },
    {
     "data": {
      "application/vnd.jupyter.widget-view+json": {
       "model_id": "7b62445341c64320b4c05f373775cff0",
       "version_major": 2,
       "version_minor": 0
      },
      "text/plain": [
       "  0%|          | 0/938 [00:00<?, ?it/s]"
      ]
     },
     "metadata": {},
     "output_type": "display_data"
    },
    {
     "name": "stdout",
     "output_type": "stream",
     "text": [
      "deriving training accuracy...\n"
     ]
    },
    {
     "data": {
      "application/vnd.jupyter.widget-view+json": {
       "model_id": "646923f62d164580bdd3e40af4ff2624",
       "version_major": 2,
       "version_minor": 0
      },
      "text/plain": [
       "  0%|          | 0/938 [00:00<?, ?it/s]"
      ]
     },
     "metadata": {},
     "output_type": "display_data"
    },
    {
     "name": "stdout",
     "output_type": "stream",
     "text": [
      "validating...\n"
     ]
    },
    {
     "data": {
      "application/vnd.jupyter.widget-view+json": {
       "model_id": "64d715c445ef48ec9867d3e319de6021",
       "version_major": 2,
       "version_minor": 0
      },
      "text/plain": [
       "  0%|          | 0/157 [00:00<?, ?it/s]"
      ]
     },
     "metadata": {},
     "output_type": "display_data"
    },
    {
     "name": "stdout",
     "output_type": "stream",
     "text": [
      "deriving validation accuracy...\n"
     ]
    },
    {
     "data": {
      "application/vnd.jupyter.widget-view+json": {
       "model_id": "cae2f6e064b74dbd86d61c6caad6d5fa",
       "version_major": 2,
       "version_minor": 0
      },
      "text/plain": [
       "  0%|          | 0/157 [00:00<?, ?it/s]"
      ]
     },
     "metadata": {},
     "output_type": "display_data"
    },
    {
     "name": "stdout",
     "output_type": "stream",
     "text": [
      "training_loss: 1.4717  training_accuracy: 0.992  validation_loss: 1.475 validation_accuracy: 0.987\n",
      "\n",
      "Epoch 9/10\n",
      "training...\n"
     ]
    },
    {
     "data": {
      "application/vnd.jupyter.widget-view+json": {
       "model_id": "94412bf0faab414c8cfcacf2ba0a3b8a",
       "version_major": 2,
       "version_minor": 0
      },
      "text/plain": [
       "  0%|          | 0/938 [00:00<?, ?it/s]"
      ]
     },
     "metadata": {},
     "output_type": "display_data"
    },
    {
     "name": "stdout",
     "output_type": "stream",
     "text": [
      "deriving training accuracy...\n"
     ]
    },
    {
     "data": {
      "application/vnd.jupyter.widget-view+json": {
       "model_id": "80985da9c70340809a50b08e7bc9674d",
       "version_major": 2,
       "version_minor": 0
      },
      "text/plain": [
       "  0%|          | 0/938 [00:00<?, ?it/s]"
      ]
     },
     "metadata": {},
     "output_type": "display_data"
    },
    {
     "name": "stdout",
     "output_type": "stream",
     "text": [
      "validating...\n"
     ]
    },
    {
     "data": {
      "application/vnd.jupyter.widget-view+json": {
       "model_id": "08f5a0f3bac342c08474b4c4ad4c1c26",
       "version_major": 2,
       "version_minor": 0
      },
      "text/plain": [
       "  0%|          | 0/157 [00:00<?, ?it/s]"
      ]
     },
     "metadata": {},
     "output_type": "display_data"
    },
    {
     "name": "stdout",
     "output_type": "stream",
     "text": [
      "deriving validation accuracy...\n"
     ]
    },
    {
     "data": {
      "application/vnd.jupyter.widget-view+json": {
       "model_id": "e33d13c2c406499092e9bdadcc15403a",
       "version_major": 2,
       "version_minor": 0
      },
      "text/plain": [
       "  0%|          | 0/157 [00:00<?, ?it/s]"
      ]
     },
     "metadata": {},
     "output_type": "display_data"
    },
    {
     "name": "stdout",
     "output_type": "stream",
     "text": [
      "training_loss: 1.4709  training_accuracy: 0.992  validation_loss: 1.4755 validation_accuracy: 0.986\n",
      "\n",
      "Epoch 10/10\n",
      "training...\n"
     ]
    },
    {
     "data": {
      "application/vnd.jupyter.widget-view+json": {
       "model_id": "77740cd46b514fe1a41ead714fc3b646",
       "version_major": 2,
       "version_minor": 0
      },
      "text/plain": [
       "  0%|          | 0/938 [00:00<?, ?it/s]"
      ]
     },
     "metadata": {},
     "output_type": "display_data"
    },
    {
     "name": "stdout",
     "output_type": "stream",
     "text": [
      "deriving training accuracy...\n"
     ]
    },
    {
     "data": {
      "application/vnd.jupyter.widget-view+json": {
       "model_id": "c77c3b6b91954986aa4bfc823e29ab29",
       "version_major": 2,
       "version_minor": 0
      },
      "text/plain": [
       "  0%|          | 0/938 [00:00<?, ?it/s]"
      ]
     },
     "metadata": {},
     "output_type": "display_data"
    },
    {
     "name": "stdout",
     "output_type": "stream",
     "text": [
      "validating...\n"
     ]
    },
    {
     "data": {
      "application/vnd.jupyter.widget-view+json": {
       "model_id": "2395d30f88084582b9e4123e8a4e3ced",
       "version_major": 2,
       "version_minor": 0
      },
      "text/plain": [
       "  0%|          | 0/157 [00:00<?, ?it/s]"
      ]
     },
     "metadata": {},
     "output_type": "display_data"
    },
    {
     "name": "stdout",
     "output_type": "stream",
     "text": [
      "deriving validation accuracy...\n"
     ]
    },
    {
     "data": {
      "application/vnd.jupyter.widget-view+json": {
       "model_id": "495a1511866a4c7e9b631ed3e66e3f8b",
       "version_major": 2,
       "version_minor": 0
      },
      "text/plain": [
       "  0%|          | 0/157 [00:00<?, ?it/s]"
      ]
     },
     "metadata": {},
     "output_type": "display_data"
    },
    {
     "name": "stdout",
     "output_type": "stream",
     "text": [
      "training_loss: 1.4706  training_accuracy: 0.991  validation_loss: 1.4758 validation_accuracy: 0.986\n",
      "\n"
     ]
    }
   ],
   "source": [
    "#  training model 2\n",
    "model_2 = ConvolutionalNeuralNet(LeNet5_BatchNorm())\n",
    "\n",
    "log_dict_2 = model_2.train(nn.CrossEntropyLoss(), epochs=10, batch_size=64, \n",
    "                       training_set=training_set, validation_set=validation_set)"
   ]
  },
  {
   "cell_type": "code",
   "execution_count": 19,
   "id": "692eb2e6-20e5-4e64-b605-03870797fbda",
   "metadata": {
    "execution": {
     "iopub.execute_input": "2022-10-20T00:20:22.381858Z",
     "iopub.status.busy": "2022-10-20T00:20:22.381695Z",
     "iopub.status.idle": "2022-10-20T00:20:22.483871Z",
     "shell.execute_reply": "2022-10-20T00:20:22.483290Z",
     "shell.execute_reply.started": "2022-10-20T00:20:22.381841Z"
    }
   },
   "outputs": [
    {
     "data": {
      "text/plain": [
       "Text(0, 0.5, 'accuracy')"
      ]
     },
     "execution_count": 19,
     "metadata": {},
     "output_type": "execute_result"
    },
    {
     "data": {
      "image/png": "[encoded data removed]",
      "text/plain": [
       "<Figure size 432x288 with 1 Axes>"
      ]
     },
     "metadata": {
      "needs_background": "light"
     },
     "output_type": "display_data"
    }
   ],
   "source": [
    "sns.lineplot(y=log_dict_2['training_accuracy_per_epoch'], x=range(len(log_dict_2['training_accuracy_per_epoch'])), label='training')\n",
    "\n",
    "sns.lineplot(y=log_dict_2['validation_accuracy_per_epoch'], x=range(len(log_dict_2['validation_accuracy_per_epoch'])), label='validation')\n",
    "\n",
    "plt.xlabel('epoch')\n",
    "plt.ylabel('accuracy')"
   ]
  },
  {
   "cell_type": "code",
   "execution_count": null,
   "id": "38f85d3d-895d-4006-9a5f-d89f39fb2940",
   "metadata": {},
   "outputs": [],
   "source": []
  }
 ],
 "metadata": {
  "kernelspec": {
   "display_name": "Python 3 (ipykernel)",
   "language": "python",
   "name": "python3"
  },
  "language_info": {
   "codemirror_mode": {
    "name": "ipython",
    "version": 3
   },
   "file_extension": ".py",
   "mimetype": "text/x-python",
   "name": "python",
   "nbconvert_exporter": "python",
   "pygments_lexer": "ipython3",
   "version": "3.9.13"
  }
 },
 "nbformat": 4,
 "nbformat_minor": 5
}
